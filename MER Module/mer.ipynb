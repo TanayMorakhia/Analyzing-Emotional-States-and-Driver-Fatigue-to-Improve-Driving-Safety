{
 "cells": [
  {
   "cell_type": "code",
   "execution_count": null,
   "metadata": {},
   "outputs": [],
   "source": [
    "import keras\n",
    "import librosa\n",
    "import numpy as np"
   ]
  },
  {
   "cell_type": "code",
   "execution_count": null,
   "metadata": {},
   "outputs": [],
   "source": [
    "\n",
    "class LivePredictions:\n",
    "    \"\"\"\n",
    "    Main class of the application.\n",
    "    \"\"\"\n",
    "\n",
    "    def __init__(self, file):\n",
    "        \"\"\"\n",
    "        Init method is used to initialize the main parameters.\n",
    "        \"\"\"\n",
    "        self.file = file\n",
    "        self.path = 'Emotion_Voice_Detection_Model.h5'\n",
    "        self.loaded_model = keras.models.load_model(self.path)\n",
    "\n",
    "    def make_predictions(self):\n",
    "        \"\"\"\n",
    "        Method to process the files and create your features.\n",
    "        \"\"\"\n",
    "        data, sampling_rate = librosa.load(self.file)\n",
    "        mfccs = np.mean(librosa.feature.mfcc(y=data, sr=sampling_rate, n_mfcc=40).T, axis=0)\n",
    "        x = np.expand_dims(mfccs, axis=1)\n",
    "        x = np.expand_dims(x, axis=0)\n",
    "        predictions = self.loaded_model.predict(x)\n",
    "        predicted_class = np.argmax(predictions, axis=1)  # Get class index\n",
    "        print(\"Prediction is\", self.convert_class_to_emotion(predicted_class[0]))\n",
    "        # print( \"Prediction is\", \" \", self.convert_class_to_emotion(predictions))\n",
    "\n",
    "    @staticmethod\n",
    "    def convert_class_to_emotion(pred):\n",
    "        \"\"\"\n",
    "        Method to convert the predictions (int) into human readable strings.\n",
    "        \"\"\"\n",
    "        \n",
    "        label_conversion = {'0': 'neutral',\n",
    "                            '1': 'calm',\n",
    "                            '2': 'happy',\n",
    "                            '3': 'sad',\n",
    "                            '4': 'angry',\n",
    "                            '5': 'fearful',\n",
    "                            '6': 'disgust',\n",
    "                            '7': 'surprised'}\n",
    "\n",
    "        for key, value in label_conversion.items():\n",
    "            if int(key) == pred:\n",
    "                label = value\n",
    "        return label\n",
    "\n",
    "\n",
    "if __name__ == '__main__':\n",
    "    live_prediction = LivePredictions(file='03-01-01-01-01-02-05.wav')\n",
    "    live_prediction.loaded_model.summary()\n",
    "    live_prediction.make_predictions()\n",
    "    live_prediction = LivePredictions(file='10-16-07-29-82-30-63.wav')\n",
    "    live_prediction.make_predictions()\n",
    "    live_prediction = LivePredictions(file='lemaster_tech.wav')\n",
    "    live_prediction.make_predictions()\n",
    "\n"
   ]
  },
  {
   "cell_type": "code",
   "execution_count": null,
   "metadata": {},
   "outputs": [],
   "source": [
    "def convert_class_to_emotion(pred):\n",
    "        \"\"\"\n",
    "        Method to convert the predictions (int) into human readable strings.\n",
    "        \"\"\"\n",
    "        \n",
    "        label_conversion = {'0': 'neutral',\n",
    "                            '1': 'calm',\n",
    "                            '2': 'happy',\n",
    "                            '3': 'sad',\n",
    "                            '4': 'angry',\n",
    "                            '5': 'fearful',\n",
    "                            '6': 'disgust',\n",
    "                            '7': 'surprised'}\n",
    "\n",
    "        for key, value in label_conversion.items():\n",
    "            if int(key) == pred:\n",
    "                label = value\n",
    "        return label\n",
    "\n",
    "\n",
    "def mer_prediction(self, file):\n",
    "    self.file = file\n",
    "    self.path = 'Emotion_Voice_Detection_Model.h5'\n",
    "    self.loaded_model = keras.models.load_model(self.path)\n",
    "\n",
    "    data, sampling_rate = librosa.load(self.file)\n",
    "    mfccs = np.mean(librosa.feature.mfcc(y=data, sr=sampling_rate, n_mfcc=40).T, axis=0)\n",
    "    x = np.expand_dims(mfccs, axis=1)\n",
    "    x = np.expand_dims(x, axis=0)\n",
    "    predictions = self.loaded_model.predict(x)\n",
    "    predicted_class = np.argmax(predictions, axis=1)  # Get class index\n",
    "    print(\"Prediction is\", self.convert_class_to_emotion(predicted_class[0]))\n",
    "\n",
    "    return self.convert_class_to_emotion(predicted_class[0])\n"
   ]
  }
 ],
 "metadata": {
  "kernelspec": {
   "display_name": "base",
   "language": "python",
   "name": "python3"
  },
  "language_info": {
   "codemirror_mode": {
    "name": "ipython",
    "version": 3
   },
   "file_extension": ".py",
   "mimetype": "text/x-python",
   "name": "python",
   "nbconvert_exporter": "python",
   "pygments_lexer": "ipython3",
   "version": "3.12.3 | packaged by conda-forge | (main, Apr 15 2024, 18:20:11) [MSC v.1938 64 bit (AMD64)]"
  },
  "orig_nbformat": 4,
  "vscode": {
   "interpreter": {
    "hash": "10fa9ea11e7bd40bf99ab39dd9bb5f790e64286c7e817bd0cef59eb74dff556f"
   }
  }
 },
 "nbformat": 4,
 "nbformat_minor": 2
}
